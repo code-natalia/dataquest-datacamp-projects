{
  "nbformat": 4,
  "nbformat_minor": 0,
  "metadata": {
    "colab": {
      "provenance": [],
      "authorship_tag": "ABX9TyP8Ca33Q9z9bbe/jQwDja5M",
      "include_colab_link": true
    },
    "kernelspec": {
      "name": "python3",
      "display_name": "Python 3"
    },
    "language_info": {
      "name": "python"
    }
  },
  "cells": [
    {
      "cell_type": "markdown",
      "metadata": {
        "id": "view-in-github",
        "colab_type": "text"
      },
      "source": [
        "<a href=\"https://colab.research.google.com/github/code-natalia/dataquest-datacamp-projects/blob/main/R_vizualizing_COVID_data/R_vizualizing_COVID_data.ipynb\" target=\"_parent\"><img src=\"https://colab.research.google.com/assets/colab-badge.svg\" alt=\"Open In Colab\"/></a>"
      ]
    },
    {
      "cell_type": "code",
      "source": [
        "%load_ext rpy2.ipython"
      ],
      "metadata": {
        "id": "7DfpCS0dQRuB",
        "colab": {
          "base_uri": "https://localhost:8080/"
        },
        "outputId": "47638a98-0d79-485e-986f-68ef505442ca"
      },
      "execution_count": 7,
      "outputs": [
        {
          "output_type": "stream",
          "name": "stdout",
          "text": [
            "The rpy2.ipython extension is already loaded. To reload it, use:\n",
            "  %reload_ext rpy2.ipython\n"
          ]
        }
      ]
    },
    {
      "cell_type": "code",
      "execution_count": 11,
      "metadata": {
        "colab": {
          "base_uri": "https://localhost:8080/"
        },
        "id": "ILO1-NmSPqGx",
        "outputId": "a6e260f4-45ce-4472-94e6-a3b49add5906"
      },
      "outputs": [
        {
          "output_type": "stream",
          "name": "stdout",
          "text": [
            "Rows: 56 Columns: 2\n",
            "── Column specification ────────────────────────────────────────────────────────\n",
            "Delimiter: \",\"\n",
            "dbl  (1): cum_cases\n",
            "date (1): date\n",
            "\n",
            "ℹ Use `spec()` to retrieve the full column specification for this data.\n",
            "ℹ Specify the column types or set `show_col_types = FALSE` to quiet this message.\n",
            "# A tibble: 6 × 2\n",
            "  date       cum_cases\n",
            "  <date>         <dbl>\n",
            "1 2020-01-22       555\n",
            "2 2020-01-23       653\n",
            "3 2020-01-24       941\n",
            "4 2020-01-25      1434\n",
            "5 2020-01-26      2118\n",
            "6 2020-01-27      2927\n"
          ]
        }
      ],
      "source": [
        "%%R\n",
        "# Load the readr, ggplot2, and dplyr packages\n",
        "library(readr)\n",
        "library(ggplot2)\n",
        "library(dplyr)\n",
        "\n",
        "# Read datasets/confirmed_cases_worldwide.csv into confirmed_cases_worldwide\n",
        "confirmed_cases_worldwide <- read_csv(\"datasets/confirmed_cases_worldwide.csv\")\n",
        "\n",
        "# See the result\n",
        "head(confirmed_cases_worldwide)"
      ]
    },
    {
      "cell_type": "code",
      "source": [
        "%%R\n",
        "# Draw a line plot of cumulative cases vs. date\n",
        "# Label the y-axis\n",
        "ggplot(confirmed_cases_worldwide, aes(date, cum_cases)) +\n",
        "  geom_line() +\n",
        "  ylab(\"Cumulative confirmed cases\")"
      ],
      "metadata": {
        "id": "80JzlpfgPtTd",
        "colab": {
          "base_uri": "https://localhost:8080/",
          "height": 497
        },
        "outputId": "6b495684-9419-4189-8c61-dab58cfca96d"
      },
      "execution_count": 12,
      "outputs": [
        {
          "output_type": "display_data",
          "data": {
            "image/png": "[encoded data removed]"
          },
          "metadata": {}
        }
      ]
    },
    {
      "cell_type": "code",
      "source": [
        "%%R\n",
        "# Read in datasets/confirmed_cases_china_vs_world.csv\n",
        "confirmed_cases_china_vs_world <- read_csv(\"datasets/confirmed_cases_china_vs_world.csv\")\n",
        "\n",
        "# See the result\n",
        "glimpse(confirmed_cases_china_vs_world)\n",
        "\n",
        "# Draw a line plot of cumulative cases vs. date, colored by is_china\n",
        "# Define aesthetics within the line geom\n",
        "plt_cum_confirmed_cases_china_vs_world <- ggplot(confirmed_cases_china_vs_world) +\n",
        "  geom_line(aes(date, cum_cases, color = is_china)) +\n",
        "  ylab(\"Cumulative confirmed cases\")\n",
        "\n",
        "# See the plot\n",
        "plt_cum_confirmed_cases_china_vs_world"
      ],
      "metadata": {
        "id": "jeHUF1QcPvvM",
        "colab": {
          "base_uri": "https://localhost:8080/",
          "height": 757
        },
        "outputId": "b339114c-6d36-4bf6-f7cb-8998b9224b9c"
      },
      "execution_count": 13,
      "outputs": [
        {
          "output_type": "stream",
          "name": "stdout",
          "text": [
            "Rows: 112 Columns: 4\n",
            "── Column specification ────────────────────────────────────────────────────────\n",
            "Delimiter: \",\"\n",
            "chr  (1): is_china\n",
            "dbl  (2): cases, cum_cases\n",
            "date (1): date\n",
            "\n",
            "ℹ Use `spec()` to retrieve the full column specification for this data.\n",
            "ℹ Specify the column types or set `show_col_types = FALSE` to quiet this message.\n",
            "Rows: 112\n",
            "Columns: 4\n",
            "$ is_china  <chr> \"China\", \"China\", \"China\", \"China\", \"China\", \"China\", \"China…\n",
            "$ date      <date> 2020-01-22, 2020-01-23, 2020-01-24, 2020-01-25, 2020-01-26,…\n",
            "$ cases     <dbl> 548, 95, 277, 486, 669, 802, 2632, 578, 2054, 1661, 2089, 47…\n",
            "$ cum_cases <dbl> 548, 643, 920, 1406, 2075, 2877, 5509, 6087, 8141, 9802, 118…\n"
          ]
        },
        {
          "output_type": "display_data",
          "data": {
            "image/png": "[encoded data removed]"
          },
          "metadata": {}
        }
      ]
    },
    {
      "cell_type": "code",
      "source": [
        "%%R\n",
        "who_events <- tribble(\n",
        "  ~ date, ~ event,\n",
        "  \"2020-01-30\", \"Global health\\nemergency declared\",\n",
        "  \"2020-03-11\", \"Pandemic\\ndeclared\",\n",
        "  \"2020-02-13\", \"China reporting\\nchange\"\n",
        ") %>%\n",
        "  mutate(date = as.Date(date))\n",
        "\n",
        "# Using who_events, add vertical dashed lines with an xintercept at date\n",
        "# and text at date, labeled by event, and at 100000 on the y-axis\n",
        "plt_cum_confirmed_cases_china_vs_world +\n",
        "  geom_vline(aes(xintercept = date), data = who_events, linetype = \"dashed\") +\n",
        "  geom_text(aes(date, label = event), data = who_events, y = 1e5)"
      ],
      "metadata": {
        "id": "DB5SzLoXPx-K"
      },
      "execution_count": null,
      "outputs": []
    },
    {
      "cell_type": "code",
      "source": [
        "%%R\n",
        "# Filter for China, from Feb 15\n",
        "china_after_feb15 <- confirmed_cases_china_vs_world %>%\n",
        "  filter(is_china == \"China\", date >= \"2020-02-15\")\n",
        "\n",
        "# Using china_after_feb15, draw a line plot cum_cases vs. date\n",
        "# Add a smooth trend line using linear regression, no error bars\n",
        "ggplot(china_after_feb15, aes(date, cum_cases)) +\n",
        "  geom_line() +\n",
        "  geom_smooth(method = \"lm\", se = FALSE) +\n",
        "  ylab(\"Cumulative confirmed cases\")"
      ],
      "metadata": {
        "id": "Wx1Vsy5IQD7p"
      },
      "execution_count": null,
      "outputs": []
    },
    {
      "cell_type": "code",
      "source": [
        "%%R\n",
        "# Filter confirmed_cases_china_vs_world for not China\n",
        "not_china <- confirmed_cases_china_vs_world %>%\n",
        "  filter(is_china == \"Not China\")\n",
        "\n",
        "# Using not_china, draw a line plot cum_cases vs. date\n",
        "# Add a smooth trend line using linear regression, no error bars\n",
        "plt_not_china_trend_lin <- ggplot(not_china, aes(date, cum_cases)) +\n",
        "  geom_line() +\n",
        "  geom_smooth(method = \"lm\", se = FALSE) +\n",
        "  ylab(\"Cumulative confirmed cases\")\n",
        "\n",
        "# See the result\n",
        "plt_not_china_trend_lin"
      ],
      "metadata": {
        "id": "GuJRJhy-ZCP7"
      },
      "execution_count": null,
      "outputs": []
    },
    {
      "cell_type": "code",
      "source": [
        "%%R\n",
        "# Modify the plot to use a logarithmic scale on the y-axis\n",
        "plt_not_china_trend_lin +\n",
        "  scale_y_log10()"
      ],
      "metadata": {
        "id": "IJ4l0CmtZGgh"
      },
      "execution_count": null,
      "outputs": []
    },
    {
      "cell_type": "code",
      "source": [
        "%%R\n",
        "# Run this to get the data for each country\n",
        "confirmed_cases_by_country <- read_csv(\"datasets/confirmed_cases_by_country.csv\")\n",
        "glimpse(confirmed_cases_by_country)\n",
        "\n",
        "# Group by country, summarize to calculate total cases, find the top 7\n",
        "top_countries_by_total_cases <- confirmed_cases_by_country %>%\n",
        "  group_by(country) %>%\n",
        "  summarize(total_cases = max(cum_cases)) %>%\n",
        "  top_n(7, total_cases)\n",
        "\n",
        "# See the result\n",
        "top_countries_by_total_cases"
      ],
      "metadata": {
        "id": "eoTAEMk3ZKdJ"
      },
      "execution_count": null,
      "outputs": []
    },
    {
      "cell_type": "code",
      "source": [
        "%%R\n",
        "# Read in the dataset from datasets/confirmed_cases_top7_outside_china.csv\n",
        "confirmed_cases_top7_outside_china <- read_csv(\"datasets/confirmed_cases_top7_outside_china.csv\")\n",
        "\n",
        "# Glimpse at the contents of confirmed_cases_top7_outside_china\n",
        "glimpse(confirmed_cases_top7_outside_china)\n",
        "\n",
        "# Using confirmed_cases_top7_outside_china, draw a line plot of\n",
        "# cum_cases vs. date, colored by country\n",
        "ggplot(confirmed_cases_top7_outside_china, aes(date, cum_cases, color = country)) +\n",
        "  geom_line() +\n",
        "  ylab(\"Cumulative confirmed cases\")"
      ],
      "metadata": {
        "id": "l2jaQl_HZPNu"
      },
      "execution_count": null,
      "outputs": []
    }
  ]
}