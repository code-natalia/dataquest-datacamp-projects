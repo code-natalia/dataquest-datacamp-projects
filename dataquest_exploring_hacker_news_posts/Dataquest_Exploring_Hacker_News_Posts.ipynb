{
  "nbformat": 4,
  "nbformat_minor": 0,
  "metadata": {
    "colab": {
      "provenance": [],
      "authorship_tag": "ABX9TyOpWXeV1rJ6uTgC5ZRzg+OE",
      "include_colab_link": true
    },
    "kernelspec": {
      "name": "python3",
      "display_name": "Python 3"
    },
    "language_info": {
      "name": "python"
    }
  },
  "cells": [
    {
      "cell_type": "markdown",
      "metadata": {
        "id": "view-in-github",
        "colab_type": "text"
      },
      "source": [
        "<a href=\"https://colab.research.google.com/github/code-natalia/dataquest-datacamp-projects/blob/main/dataquest_exploring_hacker_news_posts/Dataquest_Exploring_Hacker_News_Posts.ipynb\" target=\"_parent\"><img src=\"https://colab.research.google.com/assets/colab-badge.svg\" alt=\"Open In Colab\"/></a>"
      ]
    },
    {
      "cell_type": "code",
      "source": [
        "import datetime as dt\n",
        "from csv import reader"
      ],
      "metadata": {
        "id": "zoFalIle064g"
      },
      "execution_count": 4,
      "outputs": []
    },
    {
      "cell_type": "code",
      "execution_count": 7,
      "metadata": {
        "colab": {
          "base_uri": "https://localhost:8080/"
        },
        "id": "LVvnKjWh0cdb",
        "outputId": "02a376b5-0801-43e0-c7c7-0706e71db3ee"
      },
      "outputs": [
        {
          "output_type": "stream",
          "name": "stdout",
          "text": [
            "[['id', 'title', 'url', 'num_points', 'num_comments', 'author', 'created_at'], ['12224879', 'Interactive Dynamic Video', 'http://www.interactivedynamicvideo.com/', '386', '52', 'ne0phyte', '8/4/2016 11:52'], ['10975351', 'How to Use Open Source and Shut the Fuck Up at the Same Time', 'http://hueniverse.com/2016/01/26/how-to-use-open-source-and-shut-the-fuck-up-at-the-same-time/', '39', '10', 'josep2', '1/26/2016 19:30'], ['11964716', \"Florida DJs May Face Felony for April Fools' Water Joke\", 'http://www.thewire.com/entertainment/2013/04/florida-djs-april-fools-water-joke/63798/', '2', '1', 'vezycash', '6/23/2016 22:20'], ['11919867', 'Technology ventures: From Idea to Enterprise', 'https://www.amazon.com/Technology-Ventures-Enterprise-Thomas-Byers/dp/0073523429', '3', '1', 'hswarna', '6/17/2016 0:01']]\n"
          ]
        }
      ],
      "source": [
        "opened_file = open(\"hacker_news.csv\")\n",
        "read_file = reader(opened_file)\n",
        "hn = list(read_file)\n",
        "print(hn[:5])\n"
      ]
    },
    {
      "cell_type": "code",
      "source": [
        "headers = hn[0]\n",
        "del hn[0]\n",
        "print(headers)\n",
        "print(hn[:5])"
      ],
      "metadata": {
        "colab": {
          "base_uri": "https://localhost:8080/"
        },
        "id": "1dnlcUSK0oFn",
        "outputId": "8f348549-1ffe-4f81-af80-5281a5259548"
      },
      "execution_count": 8,
      "outputs": [
        {
          "output_type": "stream",
          "name": "stdout",
          "text": [
            "['id', 'title', 'url', 'num_points', 'num_comments', 'author', 'created_at']\n",
            "[['12224879', 'Interactive Dynamic Video', 'http://www.interactivedynamicvideo.com/', '386', '52', 'ne0phyte', '8/4/2016 11:52'], ['10975351', 'How to Use Open Source and Shut the Fuck Up at the Same Time', 'http://hueniverse.com/2016/01/26/how-to-use-open-source-and-shut-the-fuck-up-at-the-same-time/', '39', '10', 'josep2', '1/26/2016 19:30'], ['11964716', \"Florida DJs May Face Felony for April Fools' Water Joke\", 'http://www.thewire.com/entertainment/2013/04/florida-djs-april-fools-water-joke/63798/', '2', '1', 'vezycash', '6/23/2016 22:20'], ['11919867', 'Technology ventures: From Idea to Enterprise', 'https://www.amazon.com/Technology-Ventures-Enterprise-Thomas-Byers/dp/0073523429', '3', '1', 'hswarna', '6/17/2016 0:01'], ['10301696', 'Note by Note: The Making of Steinway L1037 (2007)', 'http://www.nytimes.com/2007/11/07/movies/07stein.html?_r=0', '8', '2', 'walterbell', '9/30/2015 4:12']]\n"
          ]
        }
      ]
    },
    {
      "cell_type": "code",
      "source": [
        "ask_posts = []\n",
        "show_posts = []\n",
        "other_posts = []\n",
        "\n",
        "for row in hn:\n",
        "    title = row[1].lower()\n",
        "    if title.startswith(\"ask hn\") == True:\n",
        "        ask_posts.append(row)\n",
        "    elif title.startswith(\"show hn\") == True:\n",
        "        show_posts.append(row)\n",
        "    else:\n",
        "        other_posts.append(row)\n",
        "\n",
        "print(len(ask_posts))\n",
        "print(len(show_posts))\n",
        "print(len(other_posts))"
      ],
      "metadata": {
        "colab": {
          "base_uri": "https://localhost:8080/"
        },
        "id": "iO6fhgDi0wFw",
        "outputId": "27f5040b-0390-496c-a3b9-972efecefb7b"
      },
      "execution_count": 9,
      "outputs": [
        {
          "output_type": "stream",
          "name": "stdout",
          "text": [
            "1744\n",
            "1162\n",
            "17194\n"
          ]
        }
      ]
    },
    {
      "cell_type": "code",
      "source": [
        "total_ask_comments = 0\n",
        "\n",
        "for row in ask_posts:\n",
        "    comment = row[4]\n",
        "    comment = int(comment)\n",
        "    total_ask_comments += comment\n",
        "\n",
        "avg_ask_comments = total_ask_comments / len(ask_posts)\n",
        "print(avg_ask_comments)"
      ],
      "metadata": {
        "colab": {
          "base_uri": "https://localhost:8080/"
        },
        "id": "NgA-iG1Q0yvm",
        "outputId": "0ac89508-a650-47b8-ab49-0f42eba59f2e"
      },
      "execution_count": 10,
      "outputs": [
        {
          "output_type": "stream",
          "name": "stdout",
          "text": [
            "14.038417431192661\n"
          ]
        }
      ]
    },
    {
      "cell_type": "code",
      "source": [
        "total_show_comments = 0\n",
        "\n",
        "for row in show_posts:\n",
        "    comment = row[4]\n",
        "    comment = int(comment)\n",
        "    total_show_comments += comment\n",
        "\n",
        "avg_show_comments = total_show_comments / len(show_posts)\n",
        "print(avg_show_comments)"
      ],
      "metadata": {
        "colab": {
          "base_uri": "https://localhost:8080/"
        },
        "id": "-K4Tx1u40y13",
        "outputId": "df8f8739-60e2-4d3a-d91c-fd7165ec7ad9"
      },
      "execution_count": 11,
      "outputs": [
        {
          "output_type": "stream",
          "name": "stdout",
          "text": [
            "10.31669535283993\n"
          ]
        }
      ]
    },
    {
      "cell_type": "code",
      "source": [
        "result_list = []\n",
        "for row in ask_posts:\n",
        "    created_at = row[6]\n",
        "    comment = row[4]\n",
        "    result_list.append([created_at, comment])\n",
        "\n",
        "\n",
        "counts_by_hour = {}\n",
        "comments_by_hour ={}\n",
        "\n",
        "for row in result_list:\n",
        "    hour_set = row[0]\n",
        "    hour_set_2 = dt.datetime.strptime(hour_set, '%m/%d/%Y %H:%M')\n",
        "    hour = dt.datetime.strftime(hour_set_2, '%H')\n",
        "    comment = int(row[1])\n",
        "    if hour not in counts_by_hour:\n",
        "        counts_by_hour[hour] = 1\n",
        "        comments_by_hour[hour] = comment\n",
        "    else:\n",
        "        counts_by_hour[hour] += 1\n",
        "        comments_by_hour[hour] += comment"
      ],
      "metadata": {
        "id": "vU7kTQT103pU"
      },
      "execution_count": 12,
      "outputs": []
    },
    {
      "cell_type": "code",
      "source": [
        "avg_by_hour = []\n",
        "\n",
        "for key in counts_by_hour:\n",
        "    post = counts_by_hour[key]\n",
        "    comment = comments_by_hour[key]\n",
        "    avg = comment/post\n",
        "    avg_by_hour.append([key, avg])\n",
        "\n",
        "print(avg_by_hour)"
      ],
      "metadata": {
        "colab": {
          "base_uri": "https://localhost:8080/"
        },
        "id": "4TcuyE9l06IU",
        "outputId": "927a8069-163e-4e97-b0a4-841ae78d8f9f"
      },
      "execution_count": 13,
      "outputs": [
        {
          "output_type": "stream",
          "name": "stdout",
          "text": [
            "[['09', 5.5777777777777775], ['13', 14.741176470588234], ['10', 13.440677966101696], ['14', 13.233644859813085], ['16', 16.796296296296298], ['23', 7.985294117647059], ['12', 9.41095890410959], ['17', 11.46], ['15', 38.5948275862069], ['21', 16.009174311926607], ['20', 21.525], ['02', 23.810344827586206], ['18', 13.20183486238532], ['03', 7.796296296296297], ['05', 10.08695652173913], ['19', 10.8], ['01', 11.383333333333333], ['22', 6.746478873239437], ['08', 10.25], ['04', 7.170212765957447], ['00', 8.127272727272727], ['06', 9.022727272727273], ['07', 7.852941176470588], ['11', 11.051724137931034]]\n"
          ]
        }
      ]
    },
    {
      "cell_type": "code",
      "source": [
        "swap_avg_by_hour = []\n",
        "\n",
        "for row in avg_by_hour:\n",
        "    swap_avg_by_hour.append([row[1], row[0]])\n",
        "print(swap_avg_by_hour)"
      ],
      "metadata": {
        "colab": {
          "base_uri": "https://localhost:8080/"
        },
        "id": "nlRK1rnZ1DJH",
        "outputId": "708b7827-3ae1-4638-862f-262fbb638040"
      },
      "execution_count": 14,
      "outputs": [
        {
          "output_type": "stream",
          "name": "stdout",
          "text": [
            "[[5.5777777777777775, '09'], [14.741176470588234, '13'], [13.440677966101696, '10'], [13.233644859813085, '14'], [16.796296296296298, '16'], [7.985294117647059, '23'], [9.41095890410959, '12'], [11.46, '17'], [38.5948275862069, '15'], [16.009174311926607, '21'], [21.525, '20'], [23.810344827586206, '02'], [13.20183486238532, '18'], [7.796296296296297, '03'], [10.08695652173913, '05'], [10.8, '19'], [11.383333333333333, '01'], [6.746478873239437, '22'], [10.25, '08'], [7.170212765957447, '04'], [8.127272727272727, '00'], [9.022727272727273, '06'], [7.852941176470588, '07'], [11.051724137931034, '11']]\n"
          ]
        }
      ]
    },
    {
      "cell_type": "code",
      "source": [
        "sorted_swap = sorted(swap_avg_by_hour, reverse = True)\n",
        "print(\"Top 5 Hours to Ask Post Comments\")\n",
        "\n",
        "for row in sorted_swap[:5]:\n",
        "    time = dt.datetime.strptime(row[1], '%H')\n",
        "    time_dt = dt.datetime.strftime(time, '%H:%M')\n",
        "    avg_posts = row[0]\n",
        "    print('{}: {:.2f} average comments per post'.format\\\n",
        "          (time_dt,avg_posts))"
      ],
      "metadata": {
        "colab": {
          "base_uri": "https://localhost:8080/"
        },
        "id": "UzTXSHX81FMY",
        "outputId": "1a39bcf6-f756-49d5-b10b-3a034396eee3"
      },
      "execution_count": 15,
      "outputs": [
        {
          "output_type": "stream",
          "name": "stdout",
          "text": [
            "Top 5 Hours to Ask Post Comments\n",
            "15:00: 38.59 average comments per post\n",
            "02:00: 23.81 average comments per post\n",
            "20:00: 21.52 average comments per post\n",
            "16:00: 16.80 average comments per post\n",
            "21:00: 16.01 average comments per post\n"
          ]
        }
      ]
    }
  ]
}
